{
 "cells": [
  {
   "cell_type": "code",
   "execution_count": 1,
   "metadata": {},
   "outputs": [
    {
     "name": "stdout",
     "output_type": "stream",
     "text": [
      " ⊢ ?0 = f(?0)\n",
      "c = f(f(f(c))) ⊢ \n"
     ]
    }
   ],
   "source": [
    "from src.foe.prover import *\n",
    "e = Problem()\n",
    "e.declare_sort(\"S\")\n",
    "e.declare_function(\"c\", tuple(), \"S\")\n",
    "e.declare_function(\"f\", (\"S\",), \"S\")\n",
    "e.read_sequent(\" -> x = f(x)\")\n",
    "e.read_sequent(\"c = f(f(f(c))) ->  \")\n",
    "\n",
    "for seq in e.sequents:\n",
    "    print(seq)"
   ]
  },
  {
   "cell_type": "code",
   "execution_count": 2,
   "metadata": {},
   "outputs": [
    {
     "data": {
      "text/plain": [
       "[ ⊢ ?0 = f(?0),\n",
       " c = f(f(f(c))) ⊢ ,\n",
       " c = f(f(c)) ⊢ ,\n",
       "  ⊢ ?0 = f(f(?0)),\n",
       " c = f(f(f(f(c)))) ⊢ ,\n",
       "  ⊢ f(?0) = f(?0),\n",
       " f(c) = f(f(f(c))) ⊢ ]"
      ]
     },
     "execution_count": 2,
     "metadata": {},
     "output_type": "execute_result"
    }
   ],
   "source": [
    "p = Prover(e, lambda s: 0)\n",
    "p.expand(0)\n",
    "p.sequents"
   ]
  },
  {
   "cell_type": "code",
   "execution_count": 3,
   "metadata": {},
   "outputs": [
    {
     "data": {
      "text/plain": [
       "[ ⊢ ?0 = f(?0),\n",
       " c = f(f(f(c))) ⊢ ,\n",
       " c = f(f(c)) ⊢ ,\n",
       "  ⊢ ?0 = f(f(?0)),\n",
       " c = f(f(f(f(c)))) ⊢ ,\n",
       "  ⊢ f(?0) = f(?0),\n",
       " f(c) = f(f(f(c))) ⊢ ,\n",
       " c = f(f(f(c))) ⊢ ,\n",
       "  ⊢ ?0 = f(?0),\n",
       "  ⊢ f(f(?0)) = f(f(?0)),\n",
       " c = f(f(c)) ⊢ ,\n",
       "  ⊢ f(f(?0)) = f(?0),\n",
       "  ⊢ f(?0) = f(f(f(?0))),\n",
       "  ⊢ ?0 = f(f(?0)),\n",
       " c = f(f(f(f(c)))) ⊢ ,\n",
       "  ⊢ ?0 = f(f(f(f(?0)))),\n",
       "  ⊢ f(?0) = f(?0),\n",
       "  ⊢ f(f(f(?0))) = f(?0),\n",
       "  ⊢ ?0 = f(f(f(?0)))]"
      ]
     },
     "execution_count": 3,
     "metadata": {},
     "output_type": "execute_result"
    }
   ],
   "source": [
    "p.expand(5)\n",
    "p.sequents"
   ]
  },
  {
   "cell_type": "code",
   "execution_count": 4,
   "metadata": {},
   "outputs": [],
   "source": [
    "p.expand(-4)\n",
    "p.sequents"
   ]
  },
  {
   "cell_type": "code",
   "execution_count": 3,
   "metadata": {},
   "outputs": [
    {
     "data": {
      "text/plain": [
       "[ ⊢ ?0 = f(?0), c = f(f(f(c))) ⊢ ]"
      ]
     },
     "execution_count": 3,
     "metadata": {},
     "output_type": "execute_result"
    }
   ],
   "source": []
  },
  {
   "cell_type": "code",
   "execution_count": 3,
   "metadata": {},
   "outputs": [
    {
     "name": "stdout",
     "output_type": "stream",
     "text": [
      "Sequent  ⊢ ?0 = f(?0)\n",
      "TermInstance(0, r, 0, l, ()) TermInstance(0, r, 0, r, (0,)) ({}, {})\n",
      " ⊢ ?0 = f(f(?0))\n",
      "TermInstance(0, r, 0, l, ()) TermInstance(1, l, 0, l, ()) ({?0: c}, {})\n",
      "f(c) = f(f(f(c))) ⊢ \n",
      "TermInstance(0, r, 0, l, ()) TermInstance(1, l, 0, r, ()) ({?0: f(f(f(c)))}, {})\n",
      "c = f(f(f(f(c)))) ⊢ \n",
      "TermInstance(0, r, 0, l, ()) TermInstance(1, l, 0, r, (0,)) ({?0: f(f(c))}, {})\n",
      "c = f(f(f(f(c)))) ⊢ \n",
      "TermInstance(0, r, 0, l, ()) TermInstance(1, l, 0, r, (0, 0)) ({?0: f(c)}, {})\n",
      "c = f(f(f(f(c)))) ⊢ \n",
      "TermInstance(0, r, 0, l, ()) TermInstance(1, l, 0, r, (0, 0, 0)) ({?0: c}, {})\n",
      "c = f(f(f(f(c)))) ⊢ \n",
      "TermInstance(0, r, 0, r, ()) TermInstance(0, r, 0, l, ()) ({?0: f(?0)}, {})\n",
      " ⊢ f(?0) = f(?0)\n",
      "TermInstance(0, r, 0, r, ()) TermInstance(0, r, 0, r, (0,)) ({?0: f(?0)}, {})\n",
      " ⊢ ?0 = f(f(?0))\n",
      "TermInstance(0, r, 0, r, ()) TermInstance(1, l, 0, r, ()) ({?0: f(f(c))}, {})\n",
      "c = f(f(c)) ⊢ \n",
      "TermInstance(0, r, 0, r, ()) TermInstance(1, l, 0, r, (0,)) ({?0: f(c)}, {})\n",
      "c = f(f(c)) ⊢ \n",
      "TermInstance(0, r, 0, r, ()) TermInstance(1, l, 0, r, (0, 0)) ({?0: c}, {})\n",
      "c = f(f(c)) ⊢ \n",
      "Sequent c = f(f(f(c))) ⊢ \n"
     ]
    }
   ],
   "source": [
    "p = Prover(e, lambda s: 0)\n",
    "for s in p.sequents:\n",
    "    print(f\"Sequent {s}\")\n",
    "    for toplevel, index, m in p.superposition_instances[s]:\n",
    "        print(toplevel, index, m)\n",
    "        print(p.superposition(toplevel, index, m))"
   ]
  },
  {
   "cell_type": "code",
   "execution_count": 2,
   "metadata": {},
   "outputs": [
    {
     "data": {
      "text/plain": [
       "True"
      ]
     },
     "execution_count": 2,
     "metadata": {},
     "output_type": "execute_result"
    }
   ],
   "source": [
    "mgu(Function(\"f\", (Variable(\"x\"),)), Variable(\"x\"), disjoint=False) == None"
   ]
  },
  {
   "cell_type": "code",
   "execution_count": 4,
   "metadata": {},
   "outputs": [
    {
     "data": {
      "text/plain": [
       " ⊢ f(?0) = ?1"
      ]
     },
     "execution_count": 4,
     "metadata": {},
     "output_type": "execute_result"
    }
   ],
   "source": [
    "e.sequents[0].equality_factoring().equality_resolution()"
   ]
  },
  {
   "cell_type": "code",
   "execution_count": null,
   "metadata": {},
   "outputs": [],
   "source": [
    "e."
   ]
  }
 ],
 "metadata": {
  "kernelspec": {
   "display_name": "venv",
   "language": "python",
   "name": "python3"
  },
  "language_info": {
   "codemirror_mode": {
    "name": "ipython",
    "version": 3
   },
   "file_extension": ".py",
   "mimetype": "text/x-python",
   "name": "python",
   "nbconvert_exporter": "python",
   "pygments_lexer": "ipython3",
   "version": "3.10.6"
  },
  "orig_nbformat": 4,
  "vscode": {
   "interpreter": {
    "hash": "ad46995f6e8ffb55cdd50d1402cae3d7bb8117e90de6af632979fcc8a1a7c809"
   }
  }
 },
 "nbformat": 4,
 "nbformat_minor": 2
}
