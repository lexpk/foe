{
 "cells": [
  {
   "cell_type": "code",
   "execution_count": 1,
   "metadata": {},
   "outputs": [
    {
     "name": "stdout",
     "output_type": "stream",
     "text": [
      " ⊢ ?0 = f(?0)\n",
      "c = f(f(f(c))) ⊢ \n"
     ]
    }
   ],
   "source": [
    "from src.foe.prover import *\n",
    "e = Problem()\n",
    "e.declare_sort(\"S\")\n",
    "e.declare_function(\"c\", tuple(), \"S\")\n",
    "e.declare_function(\"f\", (\"S\",), \"S\")\n",
    "e.read_sequent(\" -> x = f(x)\")\n",
    "e.read_sequent(\"c = f(f(f(c))) ->  \")\n",
    "\n",
    "for seq in e.sequents:\n",
    "    print(seq)"
   ]
  },
  {
   "cell_type": "code",
   "execution_count": 2,
   "metadata": {},
   "outputs": [
    {
     "name": "stdout",
     "output_type": "stream",
     "text": [
      "0.\t ⊢ ?0 = f(?0)\n",
      "1.\tc = f(f(f(c))) ⊢ \n",
      "2.\t ⊢ ?0 = f(f(?0))\n",
      "3.\tf(c) = f(f(f(c))) ⊢ \n",
      "4.\tc = f(f(c)) ⊢ \n",
      "5.\tc = f(f(f(f(c)))) ⊢ \n",
      "6.\t ⊢ f(?0) = f(?0)\n"
     ]
    }
   ],
   "source": [
    "p = Prover(e, lambda s: 0)\n",
    "p.expand(0)\n",
    "\n",
    "for i, seq in enumerate(p.sequents):\n",
    "    print(f\"{i}.\\t{seq}\")"
   ]
  },
  {
   "cell_type": "code",
   "execution_count": 3,
   "metadata": {},
   "outputs": [
    {
     "name": "stdout",
     "output_type": "stream",
     "text": [
      "0.\t ⊢ ?0 = f(?0)\n",
      "1.\tc = f(f(f(c))) ⊢ \n",
      "2.\t ⊢ ?0 = f(f(?0))\n",
      "3.\tf(c) = f(f(f(c))) ⊢ \n",
      "4.\tc = f(f(c)) ⊢ \n",
      "5.\tc = f(f(f(f(c)))) ⊢ \n",
      "6.\t ⊢ f(?0) = f(?0)\n",
      "7.\t ⊢ f(f(?0)) = f(?0)\n",
      "8.\tc = f(f(f(f(f(c))))) ⊢ \n",
      "9.\t ⊢ f(f(?0)) = f(f(?0))\n",
      "10.\t ⊢ ?0 = f(f(f(f(?0))))\n",
      "11.\tf(f(c)) = f(f(f(c))) ⊢ \n",
      "12.\t ⊢ ?0 = f(f(f(?0)))\n",
      "13.\tc = f(c) ⊢ \n"
     ]
    }
   ],
   "source": [
    "p.expand(2)\n",
    "\n",
    "for i, seq in enumerate(p.sequents):\n",
    "    print(f\"{i}.\\t{seq}\")"
   ]
  },
  {
   "cell_type": "code",
   "execution_count": 4,
   "metadata": {},
   "outputs": [
    {
     "name": "stdout",
     "output_type": "stream",
     "text": [
      "0.\t ⊢ ?0 = f(?0)\n",
      "1.\tc = f(f(f(c))) ⊢ \n",
      "2.\t ⊢ ?0 = f(f(?0))\n",
      "3.\tf(c) = f(f(f(c))) ⊢ \n",
      "4.\tc = f(f(c)) ⊢ \n",
      "5.\tc = f(f(f(f(c)))) ⊢ \n",
      "6.\t ⊢ f(?0) = f(?0)\n",
      "7.\t ⊢ f(f(?0)) = f(?0)\n",
      "8.\tc = f(f(f(f(f(c))))) ⊢ \n",
      "9.\t ⊢ f(f(?0)) = f(f(?0))\n",
      "10.\t ⊢ ?0 = f(f(f(f(?0))))\n",
      "11.\tf(f(c)) = f(f(f(c))) ⊢ \n",
      "12.\t ⊢ ?0 = f(f(f(?0)))\n",
      "13.\tc = f(c) ⊢ \n",
      "14.\tc = f(f(f(f(f(f(c)))))) ⊢ \n",
      "15.\t ⊢ f(f(?0)) = f(f(f(f(f(?0)))))\n",
      "16.\tf(f(c)) = c ⊢ \n",
      "17.\t ⊢ f(f(f(?0))) = f(f(f(f(?0))))\n",
      "18.\tf(f(f(c))) = f(f(f(f(c)))) ⊢ \n",
      "19.\t ⊢ \n",
      "20.\t ⊢ ?0 = f(f(f(f(f(f(f(?0)))))))\n",
      "21.\t ⊢ f(?0) = f(f(?0))\n",
      "22.\tf(f(f(f(c)))) = f(f(f(c))) ⊢ \n",
      "23.\tc = f(f(f(f(f(f(f(c))))))) ⊢ \n",
      "24.\t ⊢ f(f(f(?0))) = f(f(?0))\n",
      "25.\t ⊢ f(f(f(f(f(?0))))) = f(f(?0))\n",
      "26.\t ⊢ f(f(?0)) = f(f(f(?0)))\n",
      "27.\tf(c) = f(f(f(f(f(f(c)))))) ⊢ \n",
      "28.\t ⊢ f(f(?0)) = f(f(f(f(?0))))\n",
      "29.\t ⊢ ?0 = f(f(f(f(f(f(?0))))))\n",
      "30.\t ⊢ ?0 = f(f(f(f(f(?0)))))\n",
      "31.\tf(c) = c ⊢ \n",
      "32.\t ⊢ f(?0) = f(f(f(f(?0))))\n",
      "33.\tf(f(f(f(f(c))))) = f(f(f(c))) ⊢ \n",
      "34.\t ⊢ f(f(f(?0))) = f(?0)\n",
      "35.\tc = f(f(f(f(f(f(f(f(c)))))))) ⊢ \n",
      "36.\t ⊢ f(f(f(f(f(?0))))) = f(?0)\n",
      "37.\t ⊢ f(f(f(f(?0)))) = f(?0)\n",
      "38.\tf(f(c)) = f(f(f(f(f(f(c)))))) ⊢ \n",
      "39.\tf(f(f(c))) = f(f(f(f(f(c))))) ⊢ \n",
      "40.\t ⊢ f(f(f(?0))) = f(f(f(?0)))\n",
      "41.\tf(f(f(c))) = f(f(c)) ⊢ \n"
     ]
    }
   ],
   "source": [
    "p.expand(12)\n",
    "\n",
    "for i, seq in enumerate(p.sequents):\n",
    "    print(f\"{i}.\\t{seq}\")"
   ]
  },
  {
   "cell_type": "code",
   "execution_count": 3,
   "metadata": {},
   "outputs": [
    {
     "name": "stdout",
     "output_type": "stream",
     "text": [
      "Sequent  ⊢ ?0 = f(?0)\n",
      "TermInstance(0, r, 0, l, ()) TermInstance(0, r, 0, r, (0,)) ({}, {})\n",
      " ⊢ ?0 = f(f(?0))\n",
      "TermInstance(0, r, 0, l, ()) TermInstance(1, l, 0, l, ()) ({?0: c}, {})\n",
      "f(c) = f(f(f(c))) ⊢ \n",
      "TermInstance(0, r, 0, l, ()) TermInstance(1, l, 0, r, ()) ({?0: f(f(f(c)))}, {})\n",
      "c = f(f(f(f(c)))) ⊢ \n",
      "TermInstance(0, r, 0, l, ()) TermInstance(1, l, 0, r, (0,)) ({?0: f(f(c))}, {})\n",
      "c = f(f(f(f(c)))) ⊢ \n",
      "TermInstance(0, r, 0, l, ()) TermInstance(1, l, 0, r, (0, 0)) ({?0: f(c)}, {})\n",
      "c = f(f(f(f(c)))) ⊢ \n",
      "TermInstance(0, r, 0, l, ()) TermInstance(1, l, 0, r, (0, 0, 0)) ({?0: c}, {})\n",
      "c = f(f(f(f(c)))) ⊢ \n",
      "TermInstance(0, r, 0, r, ()) TermInstance(0, r, 0, l, ()) ({?0: f(?0)}, {})\n",
      " ⊢ f(?0) = f(?0)\n",
      "TermInstance(0, r, 0, r, ()) TermInstance(0, r, 0, r, (0,)) ({?0: f(?0)}, {})\n",
      " ⊢ ?0 = f(f(?0))\n",
      "TermInstance(0, r, 0, r, ()) TermInstance(1, l, 0, r, ()) ({?0: f(f(c))}, {})\n",
      "c = f(f(c)) ⊢ \n",
      "TermInstance(0, r, 0, r, ()) TermInstance(1, l, 0, r, (0,)) ({?0: f(c)}, {})\n",
      "c = f(f(c)) ⊢ \n",
      "TermInstance(0, r, 0, r, ()) TermInstance(1, l, 0, r, (0, 0)) ({?0: c}, {})\n",
      "c = f(f(c)) ⊢ \n",
      "Sequent c = f(f(f(c))) ⊢ \n"
     ]
    }
   ],
   "source": [
    "p = Prover(e, lambda s: 0)\n",
    "for s in p.sequents:\n",
    "    print(f\"Sequent {s}\")\n",
    "    for toplevel, index, m in p.superposition_instances[s]:\n",
    "        print(toplevel, index, m)\n",
    "        print(p.superposition(toplevel, index, m))"
   ]
  },
  {
   "cell_type": "code",
   "execution_count": 2,
   "metadata": {},
   "outputs": [
    {
     "data": {
      "text/plain": [
       "True"
      ]
     },
     "execution_count": 2,
     "metadata": {},
     "output_type": "execute_result"
    }
   ],
   "source": [
    "mgu(Function(\"f\", (Variable(\"x\"),)), Variable(\"x\"), disjoint=False) == None"
   ]
  },
  {
   "cell_type": "code",
   "execution_count": 4,
   "metadata": {},
   "outputs": [
    {
     "data": {
      "text/plain": [
       " ⊢ f(?0) = ?1"
      ]
     },
     "execution_count": 4,
     "metadata": {},
     "output_type": "execute_result"
    }
   ],
   "source": [
    "e.sequents[0].equality_factoring().equality_resolution()"
   ]
  }
 ],
 "metadata": {
  "kernelspec": {
   "display_name": "Python 3.10.0 64-bit",
   "language": "python",
   "name": "python3"
  },
  "language_info": {
   "codemirror_mode": {
    "name": "ipython",
    "version": 3
   },
   "file_extension": ".py",
   "mimetype": "text/x-python",
   "name": "python",
   "nbconvert_exporter": "python",
   "pygments_lexer": "ipython3",
   "version": "3.10.0"
  },
  "orig_nbformat": 4,
  "vscode": {
   "interpreter": {
    "hash": "8572c1ecfb522a19d6b86955e9553cb4b2e2c0c63144fa0d7c3557ece75fefb0"
   }
  }
 },
 "nbformat": 4,
 "nbformat_minor": 2
}
